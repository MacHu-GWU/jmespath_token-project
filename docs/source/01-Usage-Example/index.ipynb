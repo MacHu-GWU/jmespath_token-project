{
 "cells": [
  {
   "cell_type": "markdown",
   "id": "cc2b57e5-9ba9-4146-bd85-963b561d3b87",
   "metadata": {},
   "source": [
    "# Jmespath Token Usage Example"
   ]
  },
  {
   "cell_type": "code",
   "execution_count": 1,
   "id": "cf1fdf52-a193-4539-a246-13d54a77f8af",
   "metadata": {
    "ExecuteTime": {
     "end_time": "2023-09-25T15:36:14.929877Z",
     "start_time": "2023-09-25T15:36:14.925278Z"
    }
   },
   "outputs": [],
   "source": [
    "import jmespath_token.api as jt\n",
    "from rich import print as rprint"
   ]
  },
  {
   "cell_type": "code",
   "execution_count": 2,
   "id": "292211ed",
   "metadata": {
    "collapsed": false,
    "jupyter": {
     "outputs_hidden": false
    }
   },
   "outputs": [
    {
     "data": {
      "text/plain": [
       "'hello'"
      ]
     },
     "execution_count": 2,
     "metadata": {},
     "output_type": "execute_result"
    }
   ],
   "source": [
    "# implicit raw token\n",
    "data = {\n",
    "    \"firstname\": \"John\",\n",
    "    \"lastname\": \"Doe\",\n",
    "}\n",
    "jt.evaluate_token(\"hello\", data)"
   ]
  },
  {
   "cell_type": "code",
   "execution_count": 3,
   "id": "061536c2-8086-4095-8504-10cd22e68500",
   "metadata": {},
   "outputs": [
    {
     "data": {
      "text/plain": [
       "'John'"
      ]
     },
     "execution_count": 3,
     "metadata": {},
     "output_type": "execute_result"
    }
   ],
   "source": [
    "# implicit jmespath token\n",
    "data = {\n",
    "    \"firstname\": \"John\",\n",
    "    \"lastname\": \"Doe\",\n",
    "}\n",
    "jt.evaluate_token(\"$firstname\", data)"
   ]
  },
  {
   "cell_type": "code",
   "execution_count": 4,
   "id": "d8b0fe03-2d9c-4cdf-946f-55562068da48",
   "metadata": {},
   "outputs": [
    {
     "data": {
      "text/plain": [
       "{'firstname': 'John', 'lastname': 'Doe'}"
      ]
     },
     "execution_count": 4,
     "metadata": {},
     "output_type": "execute_result"
    }
   ],
   "source": [
    "# dict values are implicit jmespath token\n",
    "data = {\n",
    "    \"firstname\": \"John\",\n",
    "    \"lastname\": \"Doe\",\n",
    "}\n",
    "jt.evaluate_token({\"firstname\": \"$firstname\", \"lastname\": \"$lastname\"}, data)"
   ]
  },
  {
   "cell_type": "code",
   "execution_count": 5,
   "id": "9d833525-2967-4b6a-b182-c7f1a4dd5faa",
   "metadata": {},
   "outputs": [
    {
     "data": {
      "text/plain": [
       "['John', 'Doe']"
      ]
     },
     "execution_count": 5,
     "metadata": {},
     "output_type": "execute_result"
    }
   ],
   "source": [
    "# list values are implicit jmespath token\n",
    "data = {\n",
    "    \"firstname\": \"John\",\n",
    "    \"lastname\": \"Doe\",\n",
    "}\n",
    "jt.evaluate_token([\"$firstname\", \"$lastname\"], data)"
   ]
  },
  {
   "cell_type": "code",
   "execution_count": 6,
   "id": "b91398c7-e8c8-4a0b-a068-9330593cd4ff",
   "metadata": {},
   "outputs": [
    {
     "data": {
      "text/plain": [
       "'Hello John Doe!'"
      ]
     },
     "execution_count": 6,
     "metadata": {},
     "output_type": "execute_result"
    }
   ],
   "source": [
    "# SubToken (string template)\n",
    "jt.evaluate_token(\n",
    "    {\n",
    "        \"type\": jt.TokenTypeEnum.sub,\n",
    "        \"kwargs\": {\n",
    "            \"template\": \"Hello {FIRSTNAME} {LASTNAME}!\",\n",
    "            \"params\": {\n",
    "                \"FIRSTNAME\": \"$firstname\",\n",
    "                \"LASTNAME\": \"$lastname\",\n",
    "            },\n",
    "        },\n",
    "    },\n",
    "    data,\n",
    ")"
   ]
  },
  {
   "cell_type": "code",
   "execution_count": 7,
   "id": "5a51f612-f34e-43b5-bf9e-9ef7fcfdf553",
   "metadata": {},
   "outputs": [
    {
     "data": {
      "text/plain": [
       "'Hello John Doe!'"
      ]
     },
     "execution_count": 7,
     "metadata": {},
     "output_type": "execute_result"
    }
   ],
   "source": [
    "# SubToken parameter values can also be token\n",
    "jt.evaluate_token(\n",
    "    {\n",
    "        \"type\": jt.TokenTypeEnum.sub,\n",
    "        \"kwargs\": {\n",
    "            \"template\": \"Hello {FIRSTNAME} {LASTNAME}!\",\n",
    "            \"params\": {\n",
    "                \"FIRSTNAME\": \"$firstname\",\n",
    "                # params can be any token\n",
    "                \"LASTNAME\": {\n",
    "                    \"type\": jt.TokenTypeEnum.jmespath,\n",
    "                    \"kwargs\": {\"path\": \"$lastname\"},\n",
    "                },\n",
    "            },\n",
    "        },\n",
    "    },\n",
    "    data,\n",
    ")"
   ]
  },
  {
   "cell_type": "code",
   "execution_count": 8,
   "id": "bddcbcd8-c0bb-47ec-b345-e74d9455e84f",
   "metadata": {},
   "outputs": [
    {
     "data": {
      "text/plain": [
       "'Doe, John'"
      ]
     },
     "execution_count": 8,
     "metadata": {},
     "output_type": "execute_result"
    }
   ],
   "source": [
    "# JoinToken\n",
    "jt.evaluate_token(\n",
    "    {\n",
    "        \"type\": jt.TokenTypeEnum.join,\n",
    "        \"kwargs\": {\n",
    "            \"sep\": \", \",\n",
    "            \"array\": [\n",
    "                \"$lastname\",\n",
    "                {\n",
    "                    \"type\": jt.TokenTypeEnum.jmespath,\n",
    "                    \"kwargs\": {\"path\": \"$firstname\"},\n",
    "                },\n",
    "            ],\n",
    "        },\n",
    "    },\n",
    "    data,\n",
    ")"
   ]
  },
  {
   "cell_type": "code",
   "execution_count": 9,
   "id": "5010662c-4a26-493e-9ade-dd9e6eceb2b0",
   "metadata": {},
   "outputs": [
    {
     "data": {
      "text/plain": [
       "['Doe', 'John']"
      ]
     },
     "execution_count": 9,
     "metadata": {},
     "output_type": "execute_result"
    }
   ],
   "source": [
    "# SplitToken\n",
    "jt.evaluate_token(\n",
    "    {\n",
    "        \"type\": jt.TokenTypeEnum.split,\n",
    "        \"kwargs\": {\n",
    "            \"sep\": \", \",\n",
    "            \"text\": {\n",
    "                \"type\": jt.TokenTypeEnum.join,\n",
    "                \"kwargs\": {\n",
    "                    \"sep\": \", \",\n",
    "                    \"array\": [\"$lastname\", \"$firstname\"],\n",
    "                },\n",
    "            },\n",
    "        },\n",
    "    },\n",
    "    data,\n",
    ")"
   ]
  },
  {
   "cell_type": "code",
   "execution_count": 10,
   "id": "023ac205-bbe6-4c6d-9ba0-f61ba349a1dd",
   "metadata": {},
   "outputs": [
    {
     "data": {
      "text/plain": [
       "'girl'"
      ]
     },
     "execution_count": 10,
     "metadata": {},
     "output_type": "execute_result"
    }
   ],
   "source": [
    "# MapToken\n",
    "jt.evaluate_token(\n",
    "    {\n",
    "        \"type\": jt.TokenTypeEnum.map,\n",
    "        \"kwargs\": {\n",
    "            \"key\": \"$name\",\n",
    "            \"mapper\": {\"alice\": \"$female\", \"bob\": \"$male\"},\n",
    "            \"default\": \"unknown\",\n",
    "        },\n",
    "    },\n",
    "    {\"name\": \"alice\", \"female\": \"girl\", \"male\": \"boy\"},\n",
    ")"
   ]
  },
  {
   "cell_type": "code",
   "execution_count": 11,
   "id": "5459848d-f546-40da-80ab-2a4d0b20fa76",
   "metadata": {},
   "outputs": [
    {
     "data": {
      "text/plain": [
       "1"
      ]
     },
     "execution_count": 11,
     "metadata": {},
     "output_type": "execute_result"
    }
   ],
   "source": [
    "# SelectToken\n",
    "jt.evaluate_token(\n",
    "    {\n",
    "        \"type\": jt.TokenTypeEnum.select,\n",
    "        \"kwargs\": {\n",
    "            \"index\": 0,\n",
    "            \"array\": \"$array\",\n",
    "        },\n",
    "    },\n",
    "    {\"array\": [1, 2, 3]},\n",
    ")"
   ]
  },
  {
   "cell_type": "code",
   "execution_count": 12,
   "id": "7cbd4e9f-c124-4913-8d85-3240822d7186",
   "metadata": {},
   "outputs": [
    {
     "data": {
      "text/plain": [
       "'John'"
      ]
     },
     "execution_count": 12,
     "metadata": {},
     "output_type": "execute_result"
    }
   ],
   "source": [
    "# SelectToken\n",
    "jt.evaluate_token(\n",
    "    {\n",
    "        \"type\": jt.TokenTypeEnum.select,\n",
    "        \"kwargs\": {\n",
    "            \"index\": 0,\n",
    "            \"array\": [\"$firstname\", \"$lastname\"],\n",
    "        },\n",
    "    },\n",
    "    {\"firstname\": \"John\", \"lastname\": \"doe\"},\n",
    ")"
   ]
  },
  {
   "cell_type": "code",
   "execution_count": 13,
   "id": "2ea61f99-6d1b-4730-b06e-9792c51bb62d",
   "metadata": {},
   "outputs": [
    {
     "data": {
      "text/plain": [
       "[1, 2, 3, 4, 5]"
      ]
     },
     "execution_count": 13,
     "metadata": {},
     "output_type": "execute_result"
    }
   ],
   "source": [
    "# SliceToken\n",
    "jt.evaluate_token(\n",
    "    {\n",
    "        \"type\": jt.TokenTypeEnum.slice,\n",
    "        \"kwargs\": {\n",
    "            \"array\": \"$array\",\n",
    "        },\n",
    "    },\n",
    "    {\"array\": [1, 2, 3, 4, 5]},\n",
    ")"
   ]
  },
  {
   "cell_type": "code",
   "execution_count": 14,
   "id": "1db4a929-40a5-4f30-9dca-04a8b7b3d5ac",
   "metadata": {},
   "outputs": [
    {
     "data": {
      "text/plain": [
       "[3, 4, 5]"
      ]
     },
     "execution_count": 14,
     "metadata": {},
     "output_type": "execute_result"
    }
   ],
   "source": [
    "# SliceToken\n",
    "jt.evaluate_token(\n",
    "    {\n",
    "        \"type\": jt.TokenTypeEnum.slice,\n",
    "        \"kwargs\": {\n",
    "            \"start\": 2,\n",
    "            \"array\": \"$array\",\n",
    "        },\n",
    "    },\n",
    "    {\"array\": [1, 2, 3, 4, 5]},\n",
    ")"
   ]
  },
  {
   "cell_type": "code",
   "execution_count": 15,
   "id": "41b80216-95b1-40ac-89eb-77da3671f552",
   "metadata": {},
   "outputs": [
    {
     "data": {
      "text/plain": [
       "[1, 2, 3]"
      ]
     },
     "execution_count": 15,
     "metadata": {},
     "output_type": "execute_result"
    }
   ],
   "source": [
    "# SliceToken\n",
    "jt.evaluate_token(\n",
    "    {\n",
    "        \"type\": jt.TokenTypeEnum.slice,\n",
    "        \"kwargs\": {\n",
    "            \"end\": -2,\n",
    "            \"array\": \"$array\",\n",
    "        },\n",
    "    },\n",
    "    {\"array\": [1, 2, 3, 4, 5]},\n",
    ")"
   ]
  },
  {
   "cell_type": "code",
   "execution_count": 16,
   "id": "7cf8477c-2a7b-4928-853c-15715b04d48c",
   "metadata": {},
   "outputs": [
    {
     "data": {
      "text/plain": [
       "[2, 3]"
      ]
     },
     "execution_count": 16,
     "metadata": {},
     "output_type": "execute_result"
    }
   ],
   "source": [
    "# SliceToken\n",
    "jt.evaluate_token(\n",
    "    {\n",
    "        \"type\": jt.TokenTypeEnum.slice,\n",
    "        \"kwargs\": {\n",
    "            \"start\": 1,\n",
    "            \"end\": 3,\n",
    "            \"array\": \"$array\",\n",
    "        },\n",
    "    },\n",
    "    {\"array\": [1, 2, 3, 4, 5]},\n",
    ")"
   ]
  },
  {
   "cell_type": "code",
   "execution_count": null,
   "id": "496e60a7-4b40-4bd8-bfea-9455f90a3d1a",
   "metadata": {},
   "outputs": [],
   "source": []
  }
 ],
 "metadata": {
  "kernelspec": {
   "display_name": "Python 3 (ipykernel)",
   "language": "python",
   "name": "python3"
  },
  "language_info": {
   "codemirror_mode": {
    "name": "ipython",
    "version": 3
   },
   "file_extension": ".py",
   "mimetype": "text/x-python",
   "name": "python",
   "nbconvert_exporter": "python",
   "pygments_lexer": "ipython3",
   "version": "3.8.11"
  }
 },
 "nbformat": 4,
 "nbformat_minor": 5
}
